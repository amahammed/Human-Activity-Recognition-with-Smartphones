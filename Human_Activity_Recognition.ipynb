{
 "cells": [
  {
   "cell_type": "markdown",
   "metadata": {},
   "source": [
    "# Human Activity Recongition Models - UCI Repository"
   ]
  },
  {
   "cell_type": "markdown",
   "metadata": {},
   "source": [
    "## Importing needed libraries"
   ]
  },
  {
   "cell_type": "code",
   "execution_count": 1,
   "metadata": {
    "collapsed": true
   },
   "outputs": [],
   "source": [
    "import pandas as pd\n",
    "import numpy as np\n",
    "from sklearn.metrics import accuracy_score\n",
    "from sklearn.model_selection import train_test_split\n",
    "from sklearn.tree import DecisionTreeClassifier\n",
    "import matplotlib.pyplot as plt\n",
    "from sklearn.metrics import confusion_matrix\n",
    "import seaborn as sn\n",
    "from sklearn.utils import shuffle\n",
    "from sklearn import linear_model\n"
   ]
  },
  {
   "cell_type": "markdown",
   "metadata": {},
   "source": [
    "## Loading datasets"
   ]
  },
  {
   "cell_type": "code",
   "execution_count": 2,
   "metadata": {
    "collapsed": true
   },
   "outputs": [],
   "source": [
    "trainX = pd.read_table('C:/Users/gokul/Documents/Projects/human Activity/X_train.txt', delim_whitespace=True,header=None)\n",
    "trainy = pd.read_table('C:/Users/gokul/Documents/Projects/human Activity/y_train.txt',delim_whitespace=True,header=None)\n",
    "testX = pd.read_csv(\"C:/Users/gokul/Documents/Projects/human Activity/X_test.txt\",delim_whitespace=True,header=None)\n",
    "testy = pd.read_csv('C:/Users/gokul/Documents/Projects/human Activity/y_test.txt',delim_whitespace=True,header=None)\n",
    "\n",
    "dickey = {\"1\":\"WALKING\", \"2\":\"WALKING_UPSTAIRS\",\"3\":\"WALKING_DOWNSTAIRS\",\"4\":\"SITTING\",\"5\":\"STANDING\",\"6\":\"LAYING\"}"
   ]
  },
  {
   "cell_type": "markdown",
   "metadata": {},
   "source": [
    "## Normalizing dataset by subtracting with mean and divide by std"
   ]
  },
  {
   "cell_type": "code",
   "execution_count": 3,
   "metadata": {
    "collapsed": true
   },
   "outputs": [],
   "source": [
    "mu = trainX.mean(axis=0)\n",
    "mu1 = testX.mean(axis=0)\n",
    "stdv = trainX.std(axis = 0)\n",
    "stdv1 = testX.std(axis = 0)\n",
    "\n",
    "X_train = (trainX - mu)/stdv   #normalized train set\n",
    "X_test = (testX - mu1)/stdv1  #normalized test set\n",
    "y_train = trainy              #train set of labels\n",
    "y_test = testy               #test set of label \n",
    "y = np.array(y_train).ravel() #2d to 1 conversion"
   ]
  },
  {
   "cell_type": "markdown",
   "metadata": {},
   "source": [
    "## Decision Tree"
   ]
  },
  {
   "cell_type": "code",
   "execution_count": 5,
   "metadata": {},
   "outputs": [
    {
     "name": "stdout",
     "output_type": "stream",
     "text": [
      "Training Accuracy of Decision Tree: 0.9351196953210011\n",
      "Testing Accuracy of Decision Tree: 0.828978622327791\n"
     ]
    },
    {
     "data": {
      "image/png": "[encoded data removed]",
      "text/plain": [
       "<matplotlib.figure.Figure at 0x1f5cf217a58>"
      ]
     },
     "metadata": {},
     "output_type": "display_data"
    }
   ],
   "source": [
    "rank_classifier = DecisionTreeClassifier(max_leaf_nodes=20, random_state=0)\n",
    "rank_classifier.fit(X_train,y)\n",
    "Predictions_test = rank_classifier.predict(X_test)\n",
    "Predictions_train = rank_classifier.predict(X_train)\n",
    "TrainAccuracy = accuracy_score(y_true = y_train, y_pred = Predictions_train)\n",
    "TestAccuracy = accuracy_score(y_true = y_test, y_pred = Predictions_test)\n",
    "\n",
    "print(\"Training Accuracy of Decision Tree: {}\".format(TrainAccuracy))\n",
    "print(\"Testing Accuracy of Decision Tree: {}\".format(TestAccuracy))\n",
    "\n",
    "yy = list(map(str, Predictions_test))\n",
    "y_test1 = np.array(y_test.T).ravel()\n",
    "yy1 = list(map(str,y_test1))\n",
    "pred1 = np.array(pd.Series(yy).map(dickey))\n",
    "y_test1 = np.array(pd.Series(yy1).map(dickey))\n",
    "\n",
    "array = confusion_matrix(pred1,y_test1)\n",
    "df_cm = pd.DataFrame(array, range(6),range(6))\n",
    "#sn.set(font_scale=1)#for label size\n",
    "sn.heatmap(df_cm, annot=True,annot_kws={\"size\": 12},yticklabels=(\"WALKING\", \"WALKING_UPSTAIRS\",\"WALKING_DOWNSTAIRS\",\"SITTING\",\"STANDING\",\"LAYING\"), xticklabels=(\"WALKING\", \"WALKING_UPSTAIRS\",\"WALKING_DOWNSTAIRS\",\"SITTING\",\"STANDING\",\"LAYING\"))# font size\n",
    "plt.show()"
   ]
  },
  {
   "cell_type": "markdown",
   "metadata": {},
   "source": [
    "## K Neearest Neighbors"
   ]
  },
  {
   "cell_type": "code",
   "execution_count": null,
   "metadata": {
    "collapsed": true
   },
   "outputs": [],
   "source": [
    "from sklearn import neighbors\n",
    "Accuracy_KNN = np.array([])\n",
    "rangeli = np.array(list(range(3,15)))\n",
    "for i in rangeli:                            #iterating through different k values\n",
    "    knn = neighbors.KNeighborsClassifier(n_neighbors=i)\n",
    "    knn.fit(X_train,y)\n",
    "    predicted_knn = knn.predict(X_test)\n",
    "    Accuracy = accuracy_score(y_true = y_test, y_pred = predicted_knn)\n",
    "    Accuracy_KNN = np.append(Accuracy_KNN, Accuracy)\n",
    "\n",
    "plt.plot(rangeli, Accuracy_KNN)\n",
    "plt.show()\n",
    "print(\"Optimal K value is {}\".format(rangeli[np.argmax(Accuracy_KNN)]))\n",
    "print(\"Accuracy of Optimum K value is {}\".format(np.max(Accuracy_KNN)))"
   ]
  },
  {
   "cell_type": "markdown",
   "metadata": {},
   "source": [
    "## Gaussian Naive Bayes"
   ]
  },
  {
   "cell_type": "code",
   "execution_count": 7,
   "metadata": {},
   "outputs": [
    {
     "name": "stdout",
     "output_type": "stream",
     "text": [
      "Training Accuracy of Gaussian Naive Bayes:  0.7461915125136017\n",
      "Testing Accuracy of Gaussian Naive Bayes: 0.5721072276891754\n"
     ]
    },
    {
     "data": {
      "image/png": "[encoded data removed]",
      "text/plain": [
       "<matplotlib.figure.Figure at 0x1f5cf1fe3c8>"
      ]
     },
     "metadata": {},
     "output_type": "display_data"
    }
   ],
   "source": [
    "from sklearn.naive_bayes import GaussianNB\n",
    "\n",
    "mnb = GaussianNB()               #loading model\n",
    "mnb.fit(X_train, y)              #fitting the model\n",
    "predicted_mnb = mnb.predict(X_test)\n",
    "predicted_train = mnb.predict(X_train)\n",
    "#Accuracy = accuracy_score(y_true = y_test, y_pred = y_pred)\n",
    "Accuracy_test = accuracy_score(y_true = y_test, y_pred = predicted_mnb)\n",
    "Accuracy_train = accuracy_score(y_true = y_train, y_pred = predicted_train)\n",
    "print(\"Training Accuracy of Gaussian Naive Bayes:  {}\".format(Accuracy_train))\n",
    "print(\"Testing Accuracy of Gaussian Naive Bayes: {}\".format(Accuracy_test))\n",
    "\n",
    "yy = list(map(str, predicted_mnb))\n",
    "y_test1 = np.array(y_test.T).ravel()\n",
    "yy1 = list(map(str,y_test1))\n",
    "pred1 = np.array(pd.Series(yy).map(dickey))\n",
    "y_test1 = np.array(pd.Series(yy1).map(dickey))\n",
    "\n",
    "array = confusion_matrix(pred1,y_test1)\n",
    "df_cm = pd.DataFrame(array, range(6),range(6))\n",
    "df_cm.columns = [\"WALKING\", \"WALKING_UPSTAIRS\",\"WALKING_DOWNSTAIRS\",\"SITTING\",\"STANDING\",\"LAYING\"]\n",
    "df_cm.index = [\"WALKING\", \"WALKING_UPSTAIRS\",\"WALKING_DOWNSTAIRS\",\"SITTING\",\"STANDING\",\"LAYING\"]\n",
    "sn.heatmap(df_cm, annot=True,annot_kws={\"size\": 12},yticklabels=(\"WALKING\", \"WALKING_UPSTAIRS\",\"WALKING_DOWNSTAIRS\",\"SITTING\",\"STANDING\",\"LAYING\"), xticklabels=(\"WALKING\", \"WALKING_UPSTAIRS\",\"WALKING_DOWNSTAIRS\",\"SITTING\",\"STANDING\",\"LAYING\"))# font size\n",
    "plt.show()"
   ]
  },
  {
   "cell_type": "code",
   "execution_count": 8,
   "metadata": {
    "scrolled": true
   },
   "outputs": [
    {
     "data": {
      "text/html": [
       "<div>\n",
       "<style>\n",
       "    .dataframe thead tr:only-child th {\n",
       "        text-align: right;\n",
       "    }\n",
       "\n",
       "    .dataframe thead th {\n",
       "        text-align: left;\n",
       "    }\n",
       "\n",
       "    .dataframe tbody tr th {\n",
       "        vertical-align: top;\n",
       "    }\n",
       "</style>\n",
       "<table border=\"1\" class=\"dataframe\">\n",
       "  <thead>\n",
       "    <tr style=\"text-align: right;\">\n",
       "      <th></th>\n",
       "      <th>WALKING</th>\n",
       "      <th>WALKING_UPSTAIRS</th>\n",
       "      <th>WALKING_DOWNSTAIRS</th>\n",
       "      <th>SITTING</th>\n",
       "      <th>STANDING</th>\n",
       "      <th>LAYING</th>\n",
       "    </tr>\n",
       "  </thead>\n",
       "  <tbody>\n",
       "    <tr>\n",
       "      <th>WALKING</th>\n",
       "      <td>534</td>\n",
       "      <td>471</td>\n",
       "      <td>490</td>\n",
       "      <td>0</td>\n",
       "      <td>0</td>\n",
       "      <td>0</td>\n",
       "    </tr>\n",
       "    <tr>\n",
       "      <th>WALKING_UPSTAIRS</th>\n",
       "      <td>0</td>\n",
       "      <td>0</td>\n",
       "      <td>0</td>\n",
       "      <td>0</td>\n",
       "      <td>0</td>\n",
       "      <td>0</td>\n",
       "    </tr>\n",
       "    <tr>\n",
       "      <th>WALKING_DOWNSTAIRS</th>\n",
       "      <td>0</td>\n",
       "      <td>11</td>\n",
       "      <td>25</td>\n",
       "      <td>0</td>\n",
       "      <td>0</td>\n",
       "      <td>0</td>\n",
       "    </tr>\n",
       "    <tr>\n",
       "      <th>SITTING</th>\n",
       "      <td>0</td>\n",
       "      <td>0</td>\n",
       "      <td>0</td>\n",
       "      <td>374</td>\n",
       "      <td>35</td>\n",
       "      <td>10</td>\n",
       "    </tr>\n",
       "    <tr>\n",
       "      <th>STANDING</th>\n",
       "      <td>0</td>\n",
       "      <td>0</td>\n",
       "      <td>0</td>\n",
       "      <td>78</td>\n",
       "      <td>311</td>\n",
       "      <td>19</td>\n",
       "    </tr>\n",
       "    <tr>\n",
       "      <th>LAYING</th>\n",
       "      <td>3</td>\n",
       "      <td>9</td>\n",
       "      <td>17</td>\n",
       "      <td>44</td>\n",
       "      <td>74</td>\n",
       "      <td>442</td>\n",
       "    </tr>\n",
       "  </tbody>\n",
       "</table>\n",
       "</div>"
      ],
      "text/plain": [
       "                    WALKING  WALKING_UPSTAIRS  WALKING_DOWNSTAIRS  SITTING  \\\n",
       "WALKING                 534               471                 490        0   \n",
       "WALKING_UPSTAIRS          0                 0                   0        0   \n",
       "WALKING_DOWNSTAIRS        0                11                  25        0   \n",
       "SITTING                   0                 0                   0      374   \n",
       "STANDING                  0                 0                   0       78   \n",
       "LAYING                    3                 9                  17       44   \n",
       "\n",
       "                    STANDING  LAYING  \n",
       "WALKING                    0       0  \n",
       "WALKING_UPSTAIRS           0       0  \n",
       "WALKING_DOWNSTAIRS         0       0  \n",
       "SITTING                   35      10  \n",
       "STANDING                 311      19  \n",
       "LAYING                    74     442  "
      ]
     },
     "execution_count": 8,
     "metadata": {},
     "output_type": "execute_result"
    }
   ],
   "source": [
    "df_cm  #confusion matrix dataframe"
   ]
  },
  {
   "cell_type": "markdown",
   "metadata": {},
   "source": [
    "## Logistic Regression"
   ]
  },
  {
   "cell_type": "code",
   "execution_count": 9,
   "metadata": {},
   "outputs": [
    {
     "name": "stdout",
     "output_type": "stream",
     "text": [
      "Training Accuracy for penalty 1: 0.9952393906420022\n",
      "Testing Accuracy for penalty 1: 0.9640312181879878\n",
      "Training Accuracy for penalty 0.5: 0.9934711643090316\n",
      "Testing Accuracy for penalty 0.5: 0.9636918900576857\n",
      "Training Accuracy for penalty 0.1: 0.9862622415669206\n",
      "Testing Accuracy for penalty 0.1: 0.9586019681031558\n",
      "Training Accuracy for penalty 0.01: 0.9458650707290533\n",
      "Testing Accuracy for penalty 0.01: 0.9317950458092976\n",
      "Training Accuracy for penalty 0.003: 0.9077801958650707\n",
      "Testing Accuracy for penalty 0.003: 0.9158466236851035\n",
      "Training Accuracy for penalty 0.0003: 0.16675734494015235\n",
      "Testing Accuracy for penalty 0.0003: 0.168306752629793\n",
      "\n",
      "========================================================\n",
      "\n",
      "Optimum Penalty value: 0.003\n",
      "Maximum Testing Accuracy: 0.9158466236851035\n",
      "Maximum Training Accuracy: 0.9077801958650707\n"
     ]
    }
   ],
   "source": [
    "cli = [1,0.5,0.1,0.01,0.003,0.0003]\n",
    "trainacc = np.array([])\n",
    "testacc = np.array([])\n",
    "for j in cli:         #iterating through different penalty values\n",
    "    LRmod = linear_model.LogisticRegression(penalty='l1', C=j)\n",
    "    LRmod.fit(X_train,y)\n",
    "    pred = LRmod.predict(X_test)\n",
    "    pred1 = LRmod.predict(X_train)\n",
    "    testac = accuracy_score(y_true = y_test, y_pred = pred)\n",
    "    trainac = accuracy_score(y_true = y_train, y_pred = pred1)\n",
    "    trainacc = np.append(trainacc,trainac)\n",
    "    testacc = np.append(testacc,testac)\n",
    "    print(\"Training Accuracy for penalty {}: {}\".format(j,trainac))\n",
    "    print(\"Testing Accuracy for penalty {}: {}\".format(j,testac))\n",
    "\n",
    "print(\"\\n========================================================\\n\")\n",
    "val = np.subtract(trainacc,testacc)    #finding the least difference between training and testing accuracy\n",
    "print(\"Optimum Penalty value: {}\".format(cli[np.argmin(val)]))\n",
    "print(\"Maximum Testing Accuracy: {}\".format(testacc[np.argmin(val)]))\n",
    "print(\"Maximum Training Accuracy: {}\".format(trainacc[np.argmin(val)]))"
   ]
  },
  {
   "cell_type": "code",
   "execution_count": 10,
   "metadata": {
    "scrolled": true
   },
   "outputs": [
    {
     "data": {
      "image/png": "[encoded data removed]",
      "text/plain": [
       "<matplotlib.figure.Figure at 0x2615ba6f198>"
      ]
     },
     "metadata": {},
     "output_type": "display_data"
    }
   ],
   "source": [
    "LRmod = linear_model.LogisticRegression(penalty='l1')\n",
    "LRmod.fit(X_train,y)\n",
    "pred = LRmod.predict(X_test)\n",
    "yy = list(map(str, pred))\n",
    "y_test1 = np.array(y_test.T).ravel()\n",
    "yy1 = list(map(str,y_test1))\n",
    "pred1 = np.array(pd.Series(yy).map(dickey))\n",
    "y_test1 = np.array(pd.Series(yy1).map(dickey))\n",
    "\n",
    "array = confusion_matrix(pred1,y_test1)\n",
    "df_cm = pd.DataFrame(array, range(6),range(6))\n",
    "df_cm.columns = [\"WALKING\", \"WALKING_UPSTAIRS\",\"WALKING_DOWNSTAIRS\",\"SITTING\",\"STANDING\",\"LAYING\"]\n",
    "df_cm.index = [\"WALKING\", \"WALKING_UPSTAIRS\",\"WALKING_DOWNSTAIRS\",\"SITTING\",\"STANDING\",\"LAYING\"]\n",
    "\n",
    "#sn.set(font_scale=1)#for label size\n",
    "sn.heatmap(df_cm, annot=True,annot_kws={\"size\": 12},yticklabels=(\"WALKING\", \"WALKING_UPSTAIRS\",\"WALKING_DOWNSTAIRS\",\"SITTING\",\"STANDING\",\"LAYING\"), xticklabels=(\"WALKING\", \"WALKING_UPSTAIRS\",\"WALKING_DOWNSTAIRS\",\"SITTING\",\"STANDING\",\"LAYING\"))# font size\n",
    "plt.show()"
   ]
  },
  {
   "cell_type": "code",
   "execution_count": 11,
   "metadata": {},
   "outputs": [
    {
     "data": {
      "text/html": [
       "<div>\n",
       "<style>\n",
       "    .dataframe thead tr:only-child th {\n",
       "        text-align: right;\n",
       "    }\n",
       "\n",
       "    .dataframe thead th {\n",
       "        text-align: left;\n",
       "    }\n",
       "\n",
       "    .dataframe tbody tr th {\n",
       "        vertical-align: top;\n",
       "    }\n",
       "</style>\n",
       "<table border=\"1\" class=\"dataframe\">\n",
       "  <thead>\n",
       "    <tr style=\"text-align: right;\">\n",
       "      <th></th>\n",
       "      <th>WALKING</th>\n",
       "      <th>WALKING_UPSTAIRS</th>\n",
       "      <th>WALKING_DOWNSTAIRS</th>\n",
       "      <th>SITTING</th>\n",
       "      <th>STANDING</th>\n",
       "      <th>LAYING</th>\n",
       "    </tr>\n",
       "  </thead>\n",
       "  <tbody>\n",
       "    <tr>\n",
       "      <th>WALKING</th>\n",
       "      <td>537</td>\n",
       "      <td>0</td>\n",
       "      <td>0</td>\n",
       "      <td>0</td>\n",
       "      <td>0</td>\n",
       "      <td>0</td>\n",
       "    </tr>\n",
       "    <tr>\n",
       "      <th>WALKING_UPSTAIRS</th>\n",
       "      <td>0</td>\n",
       "      <td>426</td>\n",
       "      <td>16</td>\n",
       "      <td>0</td>\n",
       "      <td>0</td>\n",
       "      <td>0</td>\n",
       "    </tr>\n",
       "    <tr>\n",
       "      <th>WALKING_DOWNSTAIRS</th>\n",
       "      <td>0</td>\n",
       "      <td>63</td>\n",
       "      <td>516</td>\n",
       "      <td>0</td>\n",
       "      <td>0</td>\n",
       "      <td>0</td>\n",
       "    </tr>\n",
       "    <tr>\n",
       "      <th>SITTING</th>\n",
       "      <td>0</td>\n",
       "      <td>0</td>\n",
       "      <td>0</td>\n",
       "      <td>488</td>\n",
       "      <td>1</td>\n",
       "      <td>6</td>\n",
       "    </tr>\n",
       "    <tr>\n",
       "      <th>STANDING</th>\n",
       "      <td>0</td>\n",
       "      <td>0</td>\n",
       "      <td>0</td>\n",
       "      <td>3</td>\n",
       "      <td>413</td>\n",
       "      <td>1</td>\n",
       "    </tr>\n",
       "    <tr>\n",
       "      <th>LAYING</th>\n",
       "      <td>0</td>\n",
       "      <td>2</td>\n",
       "      <td>0</td>\n",
       "      <td>5</td>\n",
       "      <td>6</td>\n",
       "      <td>464</td>\n",
       "    </tr>\n",
       "  </tbody>\n",
       "</table>\n",
       "</div>"
      ],
      "text/plain": [
       "                    WALKING  WALKING_UPSTAIRS  WALKING_DOWNSTAIRS  SITTING  \\\n",
       "WALKING                 537                 0                   0        0   \n",
       "WALKING_UPSTAIRS          0               426                  16        0   \n",
       "WALKING_DOWNSTAIRS        0                63                 516        0   \n",
       "SITTING                   0                 0                   0      488   \n",
       "STANDING                  0                 0                   0        3   \n",
       "LAYING                    0                 2                   0        5   \n",
       "\n",
       "                    STANDING  LAYING  \n",
       "WALKING                    0       0  \n",
       "WALKING_UPSTAIRS           0       0  \n",
       "WALKING_DOWNSTAIRS         0       0  \n",
       "SITTING                    1       6  \n",
       "STANDING                 413       1  \n",
       "LAYING                     6     464  "
      ]
     },
     "execution_count": 11,
     "metadata": {},
     "output_type": "execute_result"
    }
   ],
   "source": [
    "df_cm #confusion matrix plot"
   ]
  },
  {
   "cell_type": "code",
   "execution_count": 12,
   "metadata": {},
   "outputs": [
    {
     "data": {
      "image/png": "[encoded data removed]",
      "text/plain": [
       "<matplotlib.figure.Figure at 0x1f5cf20a908>"
      ]
     },
     "metadata": {},
     "output_type": "display_data"
    }
   ],
   "source": [
    "# multiple line plot\n",
    "plt.plot( cli,trainacc , marker='', markerfacecolor='blue', markersize=12, color='skyblue', linewidth=4, label='Train')\n",
    "plt.plot( cli,testacc ,marker='', color='olive', linewidth=2, label='Test')\n",
    "plt.xticks(np.arange(min(cli), max(cli), 0.5))\n",
    "plt.title('Test Vs Train Accuracy')\n",
    "plt.ylabel('Accuracy')\n",
    "plt.xlabel('Penalty')\n",
    "plt.legend()\n",
    "plt.show()"
   ]
  },
  {
   "cell_type": "markdown",
   "metadata": {},
   "source": [
    "## Support Vector Machine"
   ]
  },
  {
   "cell_type": "code",
   "execution_count": 131,
   "metadata": {
    "collapsed": true
   },
   "outputs": [],
   "source": [
    "from sklearn.svm import SVC\n",
    "clf = SVC()\n",
    "clf.fit(X_train, y_train) \n",
    "predsvm = clf.predict(X_test)\n",
    "accuracy_score(y_true = y_test, y_pred = predsvm)\n",
    "predsvm = clf.predict(X_train)\n",
    "accuracy_score(y_true = y_train, y_pred = predsvm)"
   ]
  },
  {
   "cell_type": "markdown",
   "metadata": {},
   "source": [
    "## Neural Network \n"
   ]
  },
  {
   "cell_type": "code",
   "execution_count": 12,
   "metadata": {},
   "outputs": [
    {
     "data": {
      "text/plain": [
       "MLPClassifier(activation='relu', alpha=5, batch_size='auto', beta_1=0.9,\n",
       "       beta_2=0.999, early_stopping=False, epsilon=1e-08,\n",
       "       hidden_layer_sizes=(300, 6), learning_rate='constant',\n",
       "       learning_rate_init=0.001, max_iter=500, momentum=0.9,\n",
       "       nesterovs_momentum=True, power_t=0.5, random_state=1, shuffle=True,\n",
       "       solver='sgd', tol=0.0001, validation_fraction=0.1, verbose=False,\n",
       "       warm_start=False)"
      ]
     },
     "execution_count": 12,
     "metadata": {},
     "output_type": "execute_result"
    }
   ],
   "source": [
    "from sklearn.neural_network import MLPClassifier\n",
    "\n",
    "clf = MLPClassifier(alpha=5,hidden_layer_sizes=(300, 6), random_state=1,solver='adam')\n",
    "sgd = MLPClassifier(alpha=5,hidden_layer_sizes=(300, 6), random_state=1, solver ='sgd',max_iter=500 )\n",
    "clf.fit(X_train,y)\n",
    "sgd.fit(X_train,y)"
   ]
  },
  {
   "cell_type": "code",
   "execution_count": 91,
   "metadata": {
    "scrolled": true
   },
   "outputs": [
    {
     "name": "stdout",
     "output_type": "stream",
     "text": [
      "Training Accuracy in Neural Network: 0.9737486398258978\n",
      "Testing Accuracy in Neural Network: 0.9541907024092298\n"
     ]
    },
    {
     "data": {
      "image/png": "[encoded data removed]",
      "text/plain": [
       "<matplotlib.figure.Figure at 0x1415c156978>"
      ]
     },
     "metadata": {},
     "output_type": "display_data"
    }
   ],
   "source": [
    "pred = clf.predict(X_test)\n",
    "predt = clf.predict(X_train)\n",
    "TeAccuracy = accuracy_score(y_true = y_test, y_pred = pred)\n",
    "TrAccuracy = accuracy_score(y_true = y_train, y_pred = predt)\n",
    "\n",
    "print(\"Training Accuracy in Neural Network: {}\".format(TrAccuracy))\n",
    "print(\"Testing Accuracy in Neural Network: {}\".format(TeAccuracy))\n",
    "\n",
    "yy = list(map(str, pred))\n",
    "y_test1 = np.array(y_test.T).ravel()\n",
    "yy1 = list(map(str,y_test1))\n",
    "pred1 = np.array(pd.Series(yy).map(dickey))\n",
    "y_test1 = np.array(pd.Series(yy1).map(dickey))\n",
    "\n",
    "array = confusion_matrix(pred1,y_test1)\n",
    "df_cm = pd.DataFrame(array, range(6),range(6))\n",
    "df_cm.columns = [\"WALKING\", \"WALKING_UPSTAIRS\",\"WALKING_DOWNSTAIRS\",\"SITTING\",\"STANDING\",\"LAYING\"]\n",
    "df_cm.index = [\"WALKING\", \"WALKING_UPSTAIRS\",\"WALKING_DOWNSTAIRS\",\"SITTING\",\"STANDING\",\"LAYING\"]\n",
    "#sn.set(font_scale=1)#for label size\n",
    "sn.heatmap(df_cm, annot=True,annot_kws={\"size\": 12},yticklabels=(\"WALKING\", \"WALKING_UPSTAIRS\",\"WALKING_DOWNSTAIRS\",\"SITTING\",\"STANDING\",\"LAYING\"), xticklabels=(\"WALKING\", \"WALKING_UPSTAIRS\",\"WALKING_DOWNSTAIRS\",\"SITTING\",\"STANDING\",\"LAYING\"))# font size\n",
    "plt.show()"
   ]
  },
  {
   "cell_type": "code",
   "execution_count": 13,
   "metadata": {},
   "outputs": [
    {
     "data": {
      "image/png": "[encoded data removed]",
      "text/plain": [
       "<matplotlib.figure.Figure at 0x1f0afaa91d0>"
      ]
     },
     "metadata": {},
     "output_type": "display_data"
    }
   ],
   "source": [
    "X1 = np.linspace(1, clf.n_iter_  , clf.n_iter_ )\n",
    "X2 = np.linspace(1, sgd.n_iter_  , sgd.n_iter_ )\n",
    "\n",
    "plt.plot(X1 , clf.loss_curve_ , label = 'ADAM Convergence' )\n",
    "plt.plot(X2,sgd.loss_curve_,label = \"Stochastic GD\")\n",
    "plt.title('Error Convergence ')\n",
    "plt.ylabel('Cost function')\n",
    "plt.xlabel('Iterations')\n",
    "plt.legend()\n",
    "plt.show()"
   ]
  },
  {
   "cell_type": "code",
   "execution_count": 93,
   "metadata": {
    "scrolled": true
   },
   "outputs": [
    {
     "data": {
      "text/html": [
       "<div>\n",
       "<style>\n",
       "    .dataframe thead tr:only-child th {\n",
       "        text-align: right;\n",
       "    }\n",
       "\n",
       "    .dataframe thead th {\n",
       "        text-align: left;\n",
       "    }\n",
       "\n",
       "    .dataframe tbody tr th {\n",
       "        vertical-align: top;\n",
       "    }\n",
       "</style>\n",
       "<table border=\"1\" class=\"dataframe\">\n",
       "  <thead>\n",
       "    <tr style=\"text-align: right;\">\n",
       "      <th></th>\n",
       "      <th>WALKING</th>\n",
       "      <th>WALKING_UPSTAIRS</th>\n",
       "      <th>WALKING_DOWNSTAIRS</th>\n",
       "      <th>SITTING</th>\n",
       "      <th>STANDING</th>\n",
       "      <th>LAYING</th>\n",
       "    </tr>\n",
       "  </thead>\n",
       "  <tbody>\n",
       "    <tr>\n",
       "      <th>WALKING</th>\n",
       "      <td>531</td>\n",
       "      <td>4</td>\n",
       "      <td>0</td>\n",
       "      <td>0</td>\n",
       "      <td>0</td>\n",
       "      <td>0</td>\n",
       "    </tr>\n",
       "    <tr>\n",
       "      <th>WALKING_UPSTAIRS</th>\n",
       "      <td>0</td>\n",
       "      <td>467</td>\n",
       "      <td>70</td>\n",
       "      <td>0</td>\n",
       "      <td>0</td>\n",
       "      <td>0</td>\n",
       "    </tr>\n",
       "    <tr>\n",
       "      <th>WALKING_DOWNSTAIRS</th>\n",
       "      <td>6</td>\n",
       "      <td>19</td>\n",
       "      <td>462</td>\n",
       "      <td>0</td>\n",
       "      <td>0</td>\n",
       "      <td>0</td>\n",
       "    </tr>\n",
       "    <tr>\n",
       "      <th>SITTING</th>\n",
       "      <td>0</td>\n",
       "      <td>0</td>\n",
       "      <td>0</td>\n",
       "      <td>487</td>\n",
       "      <td>3</td>\n",
       "      <td>4</td>\n",
       "    </tr>\n",
       "    <tr>\n",
       "      <th>STANDING</th>\n",
       "      <td>0</td>\n",
       "      <td>0</td>\n",
       "      <td>0</td>\n",
       "      <td>7</td>\n",
       "      <td>399</td>\n",
       "      <td>1</td>\n",
       "    </tr>\n",
       "    <tr>\n",
       "      <th>LAYING</th>\n",
       "      <td>0</td>\n",
       "      <td>1</td>\n",
       "      <td>0</td>\n",
       "      <td>2</td>\n",
       "      <td>18</td>\n",
       "      <td>466</td>\n",
       "    </tr>\n",
       "  </tbody>\n",
       "</table>\n",
       "</div>"
      ],
      "text/plain": [
       "                    WALKING  WALKING_UPSTAIRS  WALKING_DOWNSTAIRS  SITTING  \\\n",
       "WALKING                 531                 4                   0        0   \n",
       "WALKING_UPSTAIRS          0               467                  70        0   \n",
       "WALKING_DOWNSTAIRS        6                19                 462        0   \n",
       "SITTING                   0                 0                   0      487   \n",
       "STANDING                  0                 0                   0        7   \n",
       "LAYING                    0                 1                   0        2   \n",
       "\n",
       "                    STANDING  LAYING  \n",
       "WALKING                    0       0  \n",
       "WALKING_UPSTAIRS           0       0  \n",
       "WALKING_DOWNSTAIRS         0       0  \n",
       "SITTING                    3       4  \n",
       "STANDING                 399       1  \n",
       "LAYING                    18     466  "
      ]
     },
     "execution_count": 93,
     "metadata": {},
     "output_type": "execute_result"
    }
   ],
   "source": [
    "df_cm  #confusion matrix table"
   ]
  },
  {
   "cell_type": "markdown",
   "metadata": {},
   "source": [
    "## PCA - Principle Component Analysis"
   ]
  },
  {
   "cell_type": "code",
   "execution_count": 16,
   "metadata": {
    "collapsed": true
   },
   "outputs": [],
   "source": [
    "trainX = pd.read_table('C:/Users/gokul/Documents/Projects/human Activity/X_train.txt', delim_whitespace=True,header=None)\n",
    "trainy = pd.read_table('C:/Users/gokul/Documents/Projects/human Activity/y_train.txt',delim_whitespace=True,header=None)\n",
    "testX = pd.read_csv(\"C:/Users/gokul/Documents/Projects/human Activity/X_test.txt\",delim_whitespace=True,header=None)\n",
    "testy = pd.read_csv('C:/Users/gokul/Documents/Projects/human Activity/y_test.txt',delim_whitespace=True,header=None)\n",
    "one = [trainX,testX]\n",
    "two = [trainy,testy]\n",
    "X_df = pd.concat(one)\n",
    "y_df = pd.concat(two)"
   ]
  },
  {
   "cell_type": "code",
   "execution_count": 15,
   "metadata": {
    "collapsed": true
   },
   "outputs": [],
   "source": [
    "def fetaure_norm(X):\n",
    "    mu = X.mean(axis=0)\n",
    "    stdv = X.std(axis = 0)\n",
    "\n",
    "    X_norm = (X - mu)/stdv\n",
    "    return X_norm\n",
    "\n",
    "def pca(X):\n",
    "    m,n = X.shape\n",
    "    \n",
    "    sigma = (1/m) * X.T * X\n",
    "    a, b = np.linalg.eig(sigma)\n",
    "    \n",
    "    sort = a.argsort()[::-1]\n",
    "    eigVal = a[sort]\n",
    "    eigVec = b[:,sort]\n",
    "    \n",
    "    return eigVal,eigVec\n",
    "\n",
    "def reduced_data(X, U, k):\n",
    "    U_reduce = U[:,:k]\n",
    "    Z = U_reduce.T * X.T\n",
    "    return Z\n",
    "\n",
    "def recover_data(Z,U,K):\n",
    "    X_rec = Z.T * U[:,:k].T\n",
    "    return X_rec\n",
    "\n",
    "def variance_cal(S,k,m):\n",
    "    total1 = 0\n",
    "    total2 = 0\n",
    "    for i in range(1,k):\n",
    "        total1 = total1 + S[i]\n",
    "    \n",
    "    for j in range(1,m):\n",
    "        total2 = total2 + S[j]\n",
    "        \n",
    "    variance = total1/total2\n",
    "    return variance"
   ]
  },
  {
   "cell_type": "code",
   "execution_count": 20,
   "metadata": {},
   "outputs": [
    {
     "name": "stdout",
     "output_type": "stream",
     "text": [
      "Variance covered with 100 features: (89.18257801231466+0j)%\n",
      "Variance covered with 101 features: (89.37773548950277+0j)%\n",
      "Variance covered with 102 features: (89.56854388400605+0j)%\n",
      "Variance covered with 103 features: (89.75896470025965+0j)%\n",
      "Variance covered with 104 features: (89.94561728579957+0j)%\n"
     ]
    }
   ],
   "source": [
    "X = np.asmatrix(X_df)\n",
    "y = np.asmatrix(y_df)\n",
    "\n",
    "X_norm = fetaure_norm(X)\n",
    "m,n = X_norm.shape\n",
    "a,b = pca(X_norm)\n",
    "tes = np.array([])\n",
    "\n",
    "for k in range(10,120):\n",
    "    Z = reduced_data(X_norm,b,k)\n",
    "    X_recov = recover_data(Z,b,k)\n",
    "    test1 = variance_cal(a,k,n)\n",
    "    tes = \n",
    "    print(\"Variance covered with {} features: {}%\".format(k,test1*100))"
   ]
  },
  {
   "cell_type": "code",
   "execution_count": null,
   "metadata": {
    "collapsed": true
   },
   "outputs": [],
   "source": []
  }
 ],
 "metadata": {
  "kernelspec": {
   "display_name": "Python 3",
   "language": "python",
   "name": "python3"
  },
  "language_info": {
   "codemirror_mode": {
    "name": "ipython",
    "version": 3
   },
   "file_extension": ".py",
   "mimetype": "text/x-python",
   "name": "python",
   "nbconvert_exporter": "python",
   "pygments_lexer": "ipython3",
   "version": "3.6.3"
  }
 },
 "nbformat": 4,
 "nbformat_minor": 2
}
