{
 "cells": [
  {
   "cell_type": "markdown",
   "metadata": {},
   "source": [
    "# Human Activity Recongition Models - UCI Repository"
   ]
  },
  {
   "cell_type": "code",
   "execution_count": 2,
   "metadata": {
    "collapsed": true
   },
   "outputs": [],
   "source": [
    "import pandas as pd\n",
    "import numpy as np\n",
    "from sklearn.metrics import accuracy_score\n",
    "from sklearn.model_selection import train_test_split\n",
    "from sklearn.tree import DecisionTreeClassifier\n",
    "import matplotlib.pyplot as plt"
   ]
  },
  {
   "cell_type": "code",
   "execution_count": 10,
   "metadata": {
    "scrolled": true
   },
   "outputs": [],
   "source": [
    "trainX = pd.read_table('C:/Users/gokul/Documents/Projects/human Activity/X_train.txt', delim_whitespace=True,header=None)\n",
    "trainy = pd.read_table('C:/Users/gokul/Documents/Projects/human Activity/y_train.txt',delim_whitespace=True,header=None)\n",
    "testX = pd.read_csv(\"C:/Users/gokul/Documents/Projects/human Activity/X_test.txt\",delim_whitespace=True,header=None)\n",
    "testy = pd.read_csv('C:/Users/gokul/Documents/Projects/human Activity/y_test.txt',delim_whitespace=True,header=None)"
   ]
  },
  {
   "cell_type": "code",
   "execution_count": 11,
   "metadata": {
    "collapsed": true
   },
   "outputs": [],
   "source": [
    "mu = trainX.mean(axis=0)\n",
    "mu1 = testX.mean(axis=0)\n",
    "stdv = trainX.std(axis = 0)\n",
    "stdv1 = testX.std(axis = 0)\n",
    "\n",
    "X_train = (trainX - mu)/stdv\n",
    "X_test = (testX - mu1)/stdv1\n",
    "y_train = trainy\n",
    "y_test = testy\n",
    "y = np.array(y_train).ravel()"
   ]
  },
  {
   "cell_type": "markdown",
   "metadata": {},
   "source": [
    "## Decision Tree"
   ]
  },
  {
   "cell_type": "code",
   "execution_count": 20,
   "metadata": {},
   "outputs": [
    {
     "name": "stdout",
     "output_type": "stream",
     "text": [
      "0.952937976061\n",
      "0.834747200543\n"
     ]
    }
   ],
   "source": [
    "rank_classifier = DecisionTreeClassifier(max_leaf_nodes=30, random_state=0)\n",
    "rank_classifier.fit(X_train,y_train)\n",
    "#print(type(rank_classifier))\n",
    "Predictions_test = rank_classifier.predict(X_test)\n",
    "Predictions_train = rank_classifier.predict(X_train)\n",
    "TrainAccuracy = accuracy_score(y_true = y_train, y_pred = Predictions_train)\n",
    "TestAccuracy = accuracy_score(y_true = y_test, y_pred = Predictions_test)\n",
    "\n",
    "print(TrainAccuracy)\n",
    "print(TestAccuracy)"
   ]
  },
  {
   "cell_type": "markdown",
   "metadata": {},
   "source": [
    "## K Neearest Neighbors"
   ]
  },
  {
   "cell_type": "code",
   "execution_count": 50,
   "metadata": {},
   "outputs": [
    {
     "data": {
      "image/png": "[encoded data removed]",
      "text/plain": [
       "<matplotlib.figure.Figure at 0x26c0727ccf8>"
      ]
     },
     "metadata": {},
     "output_type": "display_data"
    },
    {
     "name": "stdout",
     "output_type": "stream",
     "text": [
      "Optimal K value is 6\n",
      "Accuracy of Optimum K value is 0.8194774346793349\n"
     ]
    }
   ],
   "source": [
    "from sklearn import neighbors\n",
    "Accuracy_KNN = np.array([])\n",
    "rangeli = np.array(list(range(3,15)))\n",
    "for i in rangeli:\n",
    "    knn = neighbors.KNeighborsClassifier(n_neighbors=i)\n",
    "    knn.fit(X_train,y_train)\n",
    "    predicted_knn = knn.predict(X_test)\n",
    "    Accuracy = accuracy_score(y_true = y_test, y_pred = predicted_knn)\n",
    "    Accuracy_KNN = np.append(Accuracy_KNN, Accuracy)\n",
    "\n",
    "plt.plot(rangeli, Accuracy_KNN)\n",
    "plt.show()\n",
    "print(\"Optimal K value is {}\".format(rangeli[np.argmax(Accuracy_KNN)]))\n",
    "print(\"Accuracy of Optimum K value is {}\".format(np.max(Accuracy_KNN)))"
   ]
  },
  {
   "cell_type": "markdown",
   "metadata": {},
   "source": [
    "## Gaussian Naive Bayes"
   ]
  },
  {
   "cell_type": "code",
   "execution_count": 47,
   "metadata": {},
   "outputs": [
    {
     "name": "stdout",
     "output_type": "stream",
     "text": [
      "Training Accuracy of Gaussian Naive Bayes:  0.7461915125136017\n",
      "Testing Accuracy of Gaussian Naive Bayes: 0.5721072276891754\n"
     ]
    }
   ],
   "source": [
    "from sklearn.naive_bayes import GaussianNB\n",
    "\n",
    "mnb = GaussianNB()\n",
    "mnb.fit(X_train, y)\n",
    "predicted_mnb = mnb.predict(X_test)\n",
    "predicted_train = mnb.predict(X_train)\n",
    "#Accuracy = accuracy_score(y_true = y_test, y_pred = y_pred)\n",
    "Accuracy_test = accuracy_score(y_true = y_test, y_pred = predicted_mnb)\n",
    "Accuracyl_train = accuracy_score(y_true = y_train, y_pred = predicted_train)\n",
    "print(\"Training Accuracy of Gaussian Naive Bayes:  {}\".format(Accuracyl_train))\n",
    "print(\"Testing Accuracy of Gaussian Naive Bayes: {}\".format(Accuracy_test))"
   ]
  },
  {
   "cell_type": "markdown",
   "metadata": {},
   "source": [
    "## Logistic Regression"
   ]
  },
  {
   "cell_type": "code",
   "execution_count": 84,
   "metadata": {},
   "outputs": [
    {
     "name": "stdout",
     "output_type": "stream",
     "text": [
      "Optimum Penalty value: 0.01\n",
      "Maximum Testing Accuracy: 0.9321343739395996\n",
      "Maximum Training Accuracy: 0.9460010881392819\n"
     ]
    }
   ],
   "source": [
    "cli = [3,1,0.5,0.1,0.01]\n",
    "trainacc = np.array([])\n",
    "testacc = np.array([])\n",
    "for j in cli:\n",
    "    LRmod = linear_model.LogisticRegression(penalty='l1', C=j)\n",
    "    LRmod.fit(X_train,y)\n",
    "    pred = LRmod.predict(X_test)\n",
    "    pred1 = LRmod.predict(X_train)\n",
    "    testac = accuracy_score(y_true = y_test, y_pred = pred)\n",
    "    trainac = accuracy_score(y_true = y_train, y_pred = pred1)\n",
    "    trainacc = np.append(trainacc,trainac)\n",
    "    testacc = np.append(testacc,testac)\n",
    "\n",
    "val = np.subtract(trainacc,testacc)    \n",
    "print(\"Optimum Penalty value: {}\".format(cli[np.argmin(val)]))\n",
    "print(\"Maximum Testing Accuracy: {}\".format(testacc[np.argmin(val)]))\n",
    "print(\"Maximum Training Accuracy: {}\".format(trainacc[np.argmin(val)]))"
   ]
  },
  {
   "cell_type": "code",
   "execution_count": 85,
   "metadata": {},
   "outputs": [
    {
     "data": {
      "image/png": "[encoded data removed]",
      "text/plain": [
       "<matplotlib.figure.Figure at 0x1bd91bf53c8>"
      ]
     },
     "metadata": {},
     "output_type": "display_data"
    }
   ],
   "source": [
    "\n",
    "# multiple line plot\n",
    "plt.plot( cli,trainacc , marker='', markerfacecolor='blue', markersize=12, color='skyblue', linewidth=4)\n",
    "plt.plot( cli,testacc ,marker='', color='olive', linewidth=2)\n",
    "plt.xticks(np.arange(min(cli), max(cli), 0.5))\n",
    "plt.show()"
   ]
  },
  {
   "cell_type": "markdown",
   "metadata": {},
   "source": [
    "## Support Vector Machine"
   ]
  },
  {
   "cell_type": "code",
   "execution_count": 131,
   "metadata": {
    "collapsed": true
   },
   "outputs": [],
   "source": [
    "from sklearn.svm import SVC\n",
    "clf = SVC()\n",
    "clf.fit(X_train, y_train) \n",
    "predsvm = clf.predict(X_test)\n",
    "accuracy_score(y_true = y_test, y_pred = predsvm)\n",
    "predsvm = clf.predict(X_train)\n",
    "accuracy_score(y_true = y_train, y_pred = predsvm)"
   ]
  },
  {
   "cell_type": "markdown",
   "metadata": {},
   "source": [
    "## Neural Network \n"
   ]
  },
  {
   "cell_type": "code",
   "execution_count": 68,
   "metadata": {},
   "outputs": [
    {
     "data": {
      "text/plain": [
       "MLPClassifier(activation='relu', alpha=5, batch_size='auto', beta_1=0.9,\n",
       "       beta_2=0.999, early_stopping=False, epsilon=1e-08,\n",
       "       hidden_layer_sizes=(300, 6), learning_rate='constant',\n",
       "       learning_rate_init=0.001, max_iter=200, momentum=0.9,\n",
       "       nesterovs_momentum=True, power_t=0.5, random_state=1, shuffle=True,\n",
       "       solver='adam', tol=0.0001, validation_fraction=0.1, verbose=False,\n",
       "       warm_start=False)"
      ]
     },
     "execution_count": 68,
     "metadata": {},
     "output_type": "execute_result"
    }
   ],
   "source": [
    "from sklearn.neural_network import MLPClassifier\n",
    "\n",
    "clf = MLPClassifier(alpha=5,hidden_layer_sizes=(300, 6), random_state=1)\n",
    "clf.fit(X_train,y)"
   ]
  },
  {
   "cell_type": "code",
   "execution_count": 64,
   "metadata": {},
   "outputs": [
    {
     "name": "stdout",
     "output_type": "stream",
     "text": [
      "Training Accuracy in Neural Network: 0.9797334058759521\n",
      "Testing Accuracy in Neural Network: 0.9589412962334578\n"
     ]
    }
   ],
   "source": [
    "pred = clf.predict(X_test)\n",
    "predt = clf.predict(X_train)\n",
    "TeAccuracy = accuracy_score(y_true = y_test, y_pred = pred)\n",
    "TrAccuracy = accuracy_score(y_true = y_train, y_pred = predt)\n",
    "\n",
    "print(\"Training Accuracy in Neural Network: {}\".format(TrAccuracy))\n",
    "print(\"Testing Accuracy in Neural Network: {}\".format(TeAccuracy))"
   ]
  }
 ],
 "metadata": {
  "kernelspec": {
   "display_name": "Python 3",
   "language": "python",
   "name": "python3"
  },
  "language_info": {
   "codemirror_mode": {
    "name": "ipython",
    "version": 3
   },
   "file_extension": ".py",
   "mimetype": "text/x-python",
   "name": "python",
   "nbconvert_exporter": "python",
   "pygments_lexer": "ipython3",
   "version": "3.6.3"
  }
 },
 "nbformat": 4,
 "nbformat_minor": 2
}
